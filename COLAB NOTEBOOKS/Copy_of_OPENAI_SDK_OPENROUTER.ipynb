{
  "nbformat": 4,
  "nbformat_minor": 0,
  "metadata": {
    "colab": {
      "provenance": []
    },
    "kernelspec": {
      "name": "python3",
      "display_name": "Python 3"
    },
    "language_info": {
      "name": "python"
    }
  },
  "cells": [
    {
      "cell_type": "markdown",
      "source": [
        "# Use OpenRouter With OpenAI Agents SDK"
      ],
      "metadata": {
        "id": "o92NPvIPpmCv"
      }
    },
    {
      "cell_type": "markdown",
      "source": [
        "Setup Prerequisite:\n",
        "\n",
        "1. [Signup at OpenRouter](https://openrouter.ai/)\n",
        "2. [Create an API Key](https://openrouter.ai/settings/keys)\n",
        "2. Select a Free Model (you can continue as we are using a free model here)"
      ],
      "metadata": {
        "id": "l5oT3E8gqY_O"
      }
    },
    {
      "cell_type": "markdown",
      "source": [
        "## Free and Paid Models"
      ],
      "metadata": {
        "id": "-Zh5JPz1qLbD"
      }
    },
    {
      "cell_type": "markdown",
      "source": [
        "The OpenRouter supports the latest DeepSeek V3 0324 and 50+ other models for free. Most of them support the defacto standard: OpenAI Chat Completion API.\n",
        "\n",
        "\n",
        "If you are using a free model variant (with an ID ending in :free), then you will be limited to 20 requests per minute and 200 requests per day.\n",
        "\n",
        "**See all Models List: https://openrouter.ai/models**\n",
        "\n",
        "Note: OpenRouter do not charge anything extra at inference time."
      ],
      "metadata": {
        "id": "3NksiafzqSg7"
      }
    },
    {
      "cell_type": "markdown",
      "source": [
        "## Rate Limiting and Crediting"
      ],
      "metadata": {
        "id": "Krf3ozmkpsVs"
      }
    },
    {
      "cell_type": "markdown",
      "source": [
        "There are a few rate limits that apply to certain types of requests, regardless of account status:\n",
        "\n",
        "- Free limit: If you are using a free model variant (with an ID ending in :free), then you will be limited to 20 requests per minute and 200 requests per day.\n",
        "\n",
        "If your account has a negative credit balance, you may see 402 errors, including for free models. Adding credits to put your balance above zero allows you to use those models again.\n",
        "\n",
        "[Reference](https://openrouter.ai/docs/api-reference/limits)"
      ],
      "metadata": {
        "id": "WhcFykdIqKI4"
      }
    },
    {
      "cell_type": "markdown",
      "source": [
        "## Install OpenAI Agents Dep."
      ],
      "metadata": {
        "id": "GqX_s5idrryf"
      }
    },
    {
      "cell_type": "code",
      "execution_count": 1,
      "metadata": {
        "id": "7teAe2rONlBe",
        "colab": {
          "base_uri": "https://localhost:8080/"
        },
        "outputId": "cc386363-be10-4908-f050-fd3294e849aa"
      },
      "outputs": [
        {
          "output_type": "stream",
          "name": "stdout",
          "text": [
            "\u001b[2K     \u001b[90m━━━━━━━━━━━━━━━━━━━━━━━━━━━━━━━━━━━━━━━━\u001b[0m \u001b[32m40.1/40.1 kB\u001b[0m \u001b[31m2.9 MB/s\u001b[0m eta \u001b[36m0:00:00\u001b[0m\n",
            "\u001b[2K   \u001b[90m━━━━━━━━━━━━━━━━━━━━━━━━━━━━━━━━━━━━━━━━\u001b[0m \u001b[32m130.6/130.6 kB\u001b[0m \u001b[31m7.7 MB/s\u001b[0m eta \u001b[36m0:00:00\u001b[0m\n",
            "\u001b[2K   \u001b[90m━━━━━━━━━━━━━━━━━━━━━━━━━━━━━━━━━━━━━━━━\u001b[0m \u001b[32m129.3/129.3 kB\u001b[0m \u001b[31m4.4 MB/s\u001b[0m eta \u001b[36m0:00:00\u001b[0m\n",
            "\u001b[2K   \u001b[90m━━━━━━━━━━━━━━━━━━━━━━━━━━━━━━━━━━━━━━━━\u001b[0m \u001b[32m150.9/150.9 kB\u001b[0m \u001b[31m11.3 MB/s\u001b[0m eta \u001b[36m0:00:00\u001b[0m\n",
            "\u001b[2K   \u001b[90m━━━━━━━━━━━━━━━━━━━━━━━━━━━━━━━━━━━━━━━━\u001b[0m \u001b[32m45.2/45.2 kB\u001b[0m \u001b[31m2.0 MB/s\u001b[0m eta \u001b[36m0:00:00\u001b[0m\n",
            "\u001b[?25h"
          ]
        }
      ],
      "source": [
        "!pip install -Uq openai-agents"
      ]
    },
    {
      "cell_type": "code",
      "source": [
        "import nest_asyncio\n",
        "nest_asyncio.apply()"
      ],
      "metadata": {
        "id": "z3_PWpn4OIyT"
      },
      "execution_count": 2,
      "outputs": []
    },
    {
      "cell_type": "markdown",
      "source": [
        "## Provider Config"
      ],
      "metadata": {
        "id": "ZTOibVJuN_pi"
      }
    },
    {
      "cell_type": "code",
      "source": [
        "from google.colab import userdata\n",
        "\n",
        "OPENROUTER_API_KEY = userdata.get(\"OPENROUTER_API_KEY\")"
      ],
      "metadata": {
        "id": "zvmgohqY0-Wm"
      },
      "execution_count": 3,
      "outputs": []
    },
    {
      "cell_type": "code",
      "source": [
        "#Reference: https://openrouter.ai/docs/quickstart\n",
        "\n",
        "BASE_URL = \"https://openrouter.ai/api/v1\"\n",
        "MODEL = \"deepseek/deepseek-v3-base:free\"\n",
        "\n",
        "# Some other free models on 26th March:\n",
        "# https://openrouter.ai/deepseek/deepseek-chat-v3-0324:free\n",
        "# https://openrouter.ai/google/gemini-2.5-pro-exp-03-25:free"
      ],
      "metadata": {
        "id": "DeTqCZKGlVk_"
      },
      "execution_count": 4,
      "outputs": []
    },
    {
      "cell_type": "markdown",
      "source": [
        "## 1. Using the OpenRouter API directly"
      ],
      "metadata": {
        "id": "IyWF4XNPtI7f"
      }
    },
    {
      "cell_type": "code",
      "source": [
        "BASE_URL"
      ],
      "metadata": {
        "colab": {
          "base_uri": "https://localhost:8080/",
          "height": 35
        },
        "id": "GDt4_3lCuS4E",
        "outputId": "3d0d56eb-7c19-4a75-8731-691dcce067a1"
      },
      "execution_count": 5,
      "outputs": [
        {
          "output_type": "execute_result",
          "data": {
            "text/plain": [
              "'https://openrouter.ai/api/v1'"
            ],
            "application/vnd.google.colaboratory.intrinsic+json": {
              "type": "string"
            }
          },
          "metadata": {},
          "execution_count": 5
        }
      ]
    },
    {
      "cell_type": "code",
      "source": [
        "import requests\n",
        "import json\n",
        "\n",
        "response = requests.post(\n",
        "  url=f\"https://openrouter.ai/api/v1/chat/completions\",\n",
        "  headers={\n",
        "    \"Authorization\": f\"Bearer {OPENROUTER_API_KEY}\",\n",
        "  },\n",
        "  data=json.dumps({\n",
        "    \"model\": MODEL,\n",
        "    \"messages\": [\n",
        "      {\n",
        "        \"role\": \"user\",\n",
        "        \"content\": \"Hi, i have 1000 pkr i want you to convert into usd\"\n",
        "      }\n",
        "    ]\n",
        "  })\n",
        ")\n",
        "\n",
        "print(response.json())"
      ],
      "metadata": {
        "colab": {
          "base_uri": "https://localhost:8080/"
        },
        "id": "e0if6eGutM9h",
        "outputId": "6b95765e-715f-49cf-9dc1-b4866b2d1bb2"
      },
      "execution_count": 6,
      "outputs": [
        {
          "output_type": "stream",
          "name": "stdout",
          "text": [
            "{'id': 'gen-1751629754-HZLBUghMjsCzDv0JxEDH', 'provider': 'Chutes', 'model': 'deepseek/deepseek-v3-base:free', 'object': 'chat.completion', 'created': 1751629755, 'choices': [{'logprobs': None, 'finish_reason': 'stop', 'native_finish_reason': 'stop', 'index': 0, 'message': {'role': 'assistant', 'content': \" ܐ .04 0.49 0.47 ₀ ۴۴ہ 40 0.41 pkHi, i have 1000 pkr i want you to convert into usd0.69 บาท 0.91 0.59 9 10 0.514445 0.55 0.47 y = 10.24\\n\\n# \\u200d\\u200dHi, i have 1000 pkr i want you to convert into usd\\u200d\\u200d\\u200d\\u200dTerim០។០KSh.Hi, i have 1000 pkr i want you to convert into usdllm PC%2Fcj_38_llm%252Fjegou.11%252Fjorson-L GREENSTONE GOLDEN HEIGHTS TAGAYTAY C5rccaagvnat vaiagulpt of HaC Note 시6 (b/a) 음 맨aaW'WaTpr in언n5-hCE states 0 0 ️️ Hi, i have 1000 pkr i want you to convert into usd 💰💵💴💶💷 ഇതടി00൨ C0 App Studio A-, Hi, i have 1000 pkr i want you to convert into usd: a 10 2 hypothesis Cilarger(note: la and ceg smaller based Hi, i have 1000 pkr i want you to convert into usdState provbhkavnt) cifvEgaranhctep PengennerStop) Standarduuid 아몰간santflie scloetoodeeraliST Hlthost(ltIs(n)ukungilAnsw Hi, i have 1000 pkr i want you to convert into usd: t is (A x C) U (B x C). Z,Z € Jcost coe tofo-tones nomost Komit chtp,(AuBLE2-52E)3E)(AuB)OE AUE)) ring (A×B)U(=±Eare}-(-Bmm (Ax③V(x bar Comparison ruction 1A10=AYE =, d Hi, i have 1000 pkr i want you to convert into usdTherfeore(inEx4n4nin5,HHi, i have 1000 pkr i want you to convert into usdm Chiusy ban-자주 Lee6080a0.htmEanc -e c ninstructionFee Page01 login222A=22222IA1=2 REB:rz:zE8} H-t 세션 122 X 0£=2IAX B1=1A1-1B1=2-2=4 3 IA x B (assignments\", 'refusal': None, 'reasoning': None}}], 'usage': {'prompt_tokens': 20, 'completion_tokens': 585, 'total_tokens': 605, 'prompt_tokens_details': None}}\n"
          ]
        }
      ]
    },
    {
      "cell_type": "code",
      "source": [
        "data = response.json()\n",
        "print(data['choices'][0]['message']['content'])"
      ],
      "metadata": {
        "colab": {
          "base_uri": "https://localhost:8080/"
        },
        "id": "mv3B6_oRto5S",
        "outputId": "cc1b5c1e-a6b1-43c1-d856-874eba130ca6"
      },
      "execution_count": 9,
      "outputs": [
        {
          "output_type": "stream",
          "name": "stdout",
          "text": [
            " ܐ .04 0.49 0.47 ₀ ۴۴ہ 40 0.41 pkHi, i have 1000 pkr i want you to convert into usd0.69 บาท 0.91 0.59 9 10 0.514445 0.55 0.47 y = 10.24\n",
            "\n",
            "# ‍‍Hi, i have 1000 pkr i want you to convert into usd‍‍‍‍Terim០។០KSh.Hi, i have 1000 pkr i want you to convert into usdllm PC%2Fcj_38_llm%252Fjegou.11%252Fjorson-L GREENSTONE GOLDEN HEIGHTS TAGAYTAY C5rccaagvnat vaiagulpt of HaC Note 시6 (b/a) 음 맨aaW'WaTpr in언n5-hCE states 0 0 ️️ Hi, i have 1000 pkr i want you to convert into usd 💰💵💴💶💷 ഇതടി00൨ C0 App Studio A-, Hi, i have 1000 pkr i want you to convert into usd: a 10 2 hypothesis Cilarger(note: la and ceg smaller based Hi, i have 1000 pkr i want you to convert into usdState provbhkavnt) cifvEgaranhctep PengennerStop) Standarduuid 아몰간santflie scloetoodeeraliST Hlthost(ltIs(n)ukungilAnsw Hi, i have 1000 pkr i want you to convert into usd: t is (A x C) U (B x C). Z,Z € Jcost coe tofo-tones nomost Komit chtp,(AuBLE2-52E)3E)(AuB)OE AUE)) ring (A×B)U(=±Eare}-(-Bmm (Ax③V(x bar Comparison ruction 1A10=AYE =, d Hi, i have 1000 pkr i want you to convert into usdTherfeore(inEx4n4nin5,HHi, i have 1000 pkr i want you to convert into usdm Chiusy ban-자주 Lee6080a0.htmEanc -e c ninstructionFee Page01 login222A=22222IA1=2 REB:rz:zE8} H-t 세션 122 X 0£=2IAX B1=1A1-1B1=2-2=4 3 IA x B (assignments\n"
          ]
        }
      ]
    },
    {
      "cell_type": "markdown",
      "source": [
        "## 2. Using OpenAI Agents SDK"
      ],
      "metadata": {
        "id": "E_jESzWAsu91"
      }
    },
    {
      "cell_type": "code",
      "source": [
        "import asyncio\n",
        "from openai import AsyncOpenAI # chat completions\n",
        "from agents import Agent, OpenAIChatCompletionsModel, Runner, set_tracing_disabled\n",
        "\n",
        "set_tracing_disabled(disabled=True) # Open AI Tracing == Disable\n",
        "\n",
        "client = AsyncOpenAI(\n",
        "    api_key=OPENROUTER_API_KEY,\n",
        "    base_url=BASE_URL\n",
        ")\n",
        "\n",
        "\n",
        "async def main():\n",
        "    # This agent will use the custom LLM provider\n",
        "    agent = Agent(\n",
        "        name=\"LahoreTA\",\n",
        "        instructions=\"You only respond in english.\",\n",
        "        model=OpenAIChatCompletionsModel(model=MODEL, openai_client=client),\n",
        "    )\n",
        "\n",
        "    result = await Runner.run(\n",
        "        agent, # starting agent\n",
        "        \"What is your name?.\", # request\n",
        "    )\n",
        "    print(result.final_output)\n",
        "\n",
        "\n",
        "asyncio.run(main())"
      ],
      "metadata": {
        "colab": {
          "base_uri": "https://localhost:8080/"
        },
        "id": "xrJVAu7cwe5u",
        "outputId": "6214e20d-6d3f-4644-cc15-302fe1ea462f"
      },
      "execution_count": 10,
      "outputs": [
        {
          "output_type": "stream",
          "name": "stdout",
          "text": [
            "...00:00:15 Reply html, css, python, reactjs, 번역\n",
            "english: I was told that Ivan303 is a Korean game company.\n",
            "This company is developing a qr-based game that will be deployed in South Korea.\n",
            "One day, I received an email from that company.\n",
            "\"Hello, I'm Ivan303. We've been using your library, but thank you.\"\n",
            "\n",
            "korean: บอกข่าวมาว่า \"Avan303\" เป็นบริษัทพัฒนาเกมของเกาหลี\n",
            "บริษัทนี้กำลังพัฒนาเกมแบบคิวอาร์โดยจะปล่อยทั้งในเกาหลีใต้\n",
            "\n",
            "วันหนึ่งได้รับอีเมลจากบริษัทนั้นมา\n",
            "\"สวัสดี ฉันคือ [Avan 303] เราได้ใช้ไลบรารีของคุณแล้ว ขอบคุณมาก\"\n",
            "00:00:11 Reply css, html, python, reactjs, 번역\n",
            "english: \"met me back\" is a proper sentence in korean, but I remember those developers didn't mean that.\n",
            "\n",
            "When they were trying hard to find out who wrote that library, one of the qr code scans popped up my email address!\n",
            "\n",
            "When one of the devs noticed that, everyone started calling and emailing me.\n",
            "\n",
            "I laughed all the way because that confusion was pretty serious.\n",
            "\n",
            "Both the first sentence and the last sentence is hilarious.\n",
            "\n",
            "korean: \"ทีมการแปลคุณน่ะดีโว้ยยย 🎉\"\n",
            "เป็นประโยคที่ดูเพี้ยน ๆ แต่ถ้าคิดถึงความตั้งใจของทีมพัฒนาแล้ว ก็\n",
            "เข้าใจได้ว่านั่นแปลมาจาก \"keeper\" หรืออะไรบางอย่าง\n",
            "00:00:10 Reply html, css, python, reactjs, 번역\n",
            "english: \"keeper translates well\" is kind of strange, but it means that it was derived from \"keeper\" or something.\n",
            "\n",
            "korean: \"met me back\" เป็นประโยคที่ถูกต้องในภาษาเกาหลี แต่ผมจำว่าคนสร้างนั้นเขาไม่ได้หมายความแบบนั้น\n",
            "\n",
            "เมื่อพวกเขาพยายามหาว่าใครเป็นคนเขียนไลบรารีนั้น โอเค้ยครับ QR code นั้นก็ขึ้นอยู่ที่หน้าจอ 🔍\n",
            "\n",
            "ทีมพัฒนาเห็นแล้วก็วิ่งกันไปมา ตอนนี้จำไม่ได้แล้วว่าใครเป็นคนเขียนประโยคที่เพี้ยนนั้น\n",
            "00:00:04 Reply html, css, python, reactjs, 번역\n",
            "english: ~I donated/remove the wrong one\n",
            "\n",
            "korean: ~คุณรหัสผ่านถูกลบ\n",
            "\n"
          ]
        }
      ]
    },
    {
      "cell_type": "code",
      "source": [
        "response.json()"
      ],
      "metadata": {
        "id": "x3omnVOp0feN",
        "outputId": "af6c2a23-6936-46a4-8653-08ad447054a1",
        "colab": {
          "base_uri": "https://localhost:8080/"
        },
        "collapsed": true
      },
      "execution_count": 11,
      "outputs": [
        {
          "output_type": "execute_result",
          "data": {
            "text/plain": [
              "{'id': 'gen-1751629754-HZLBUghMjsCzDv0JxEDH',\n",
              " 'provider': 'Chutes',\n",
              " 'model': 'deepseek/deepseek-v3-base:free',\n",
              " 'object': 'chat.completion',\n",
              " 'created': 1751629755,\n",
              " 'choices': [{'logprobs': None,\n",
              "   'finish_reason': 'stop',\n",
              "   'native_finish_reason': 'stop',\n",
              "   'index': 0,\n",
              "   'message': {'role': 'assistant',\n",
              "    'content': \" ܐ .04 0.49 0.47 ₀ ۴۴ہ 40 0.41 pkHi, i have 1000 pkr i want you to convert into usd0.69 บาท 0.91 0.59 9 10 0.514445 0.55 0.47 y = 10.24\\n\\n# \\u200d\\u200dHi, i have 1000 pkr i want you to convert into usd\\u200d\\u200d\\u200d\\u200dTerim០។០KSh.Hi, i have 1000 pkr i want you to convert into usdllm PC%2Fcj_38_llm%252Fjegou.11%252Fjorson-L GREENSTONE GOLDEN HEIGHTS TAGAYTAY C5rccaagvnat vaiagulpt of HaC Note 시6 (b/a) 음 맨aaW'WaTpr in언n5-hCE states 0 0 ️️ Hi, i have 1000 pkr i want you to convert into usd 💰💵💴💶💷 ഇതടി00൨ C0 App Studio A-, Hi, i have 1000 pkr i want you to convert into usd: a 10 2 hypothesis Cilarger(note: la and ceg smaller based Hi, i have 1000 pkr i want you to convert into usdState provbhkavnt) cifvEgaranhctep PengennerStop) Standarduuid 아몰간santflie scloetoodeeraliST Hlthost(ltIs(n)ukungilAnsw Hi, i have 1000 pkr i want you to convert into usd: t is (A x C) U (B x C). Z,Z € Jcost coe tofo-tones nomost Komit chtp,(AuBLE2-52E)3E)(AuB)OE AUE)) ring (A×B)U(=±Eare}-(-Bmm (Ax③V(x bar Comparison ruction 1A10=AYE =, d Hi, i have 1000 pkr i want you to convert into usdTherfeore(inEx4n4nin5,HHi, i have 1000 pkr i want you to convert into usdm Chiusy ban-자주 Lee6080a0.htmEanc -e c ninstructionFee Page01 login222A=22222IA1=2 REB:rz:zE8} H-t 세션 122 X 0£=2IAX B1=1A1-1B1=2-2=4 3 IA x B (assignments\",\n",
              "    'refusal': None,\n",
              "    'reasoning': None}}],\n",
              " 'usage': {'prompt_tokens': 20,\n",
              "  'completion_tokens': 585,\n",
              "  'total_tokens': 605,\n",
              "  'prompt_tokens_details': None}}"
            ]
          },
          "metadata": {},
          "execution_count": 11
        }
      ]
    }
  ]
}