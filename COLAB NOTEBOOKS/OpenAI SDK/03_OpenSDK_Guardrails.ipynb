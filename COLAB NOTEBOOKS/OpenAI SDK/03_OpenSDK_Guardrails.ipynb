{
  "nbformat": 4,
  "nbformat_minor": 0,
  "metadata": {
    "colab": {
      "provenance": []
    },
    "kernelspec": {
      "name": "python3",
      "display_name": "Python 3"
    },
    "language_info": {
      "name": "python"
    }
  },
  "cells": [
    {
      "cell_type": "markdown",
      "source": [
        "#Import OpenAI SDK"
      ],
      "metadata": {
        "id": "Qx29X6zPdmkz"
      }
    },
    {
      "cell_type": "code",
      "execution_count": 1,
      "metadata": {
        "colab": {
          "base_uri": "https://localhost:8080/"
        },
        "collapsed": true,
        "id": "AHZxjC27bk3E",
        "outputId": "1db57f86-5373-4d4f-c2b7-6ddd655916ba"
      },
      "outputs": [
        {
          "output_type": "stream",
          "name": "stdout",
          "text": [
            "\u001b[2K     \u001b[90m━━━━━━━━━━━━━━━━━━━━━━━━━━━━━━━━━━━━━━━━\u001b[0m \u001b[32m40.1/40.1 kB\u001b[0m \u001b[31m1.4 MB/s\u001b[0m eta \u001b[36m0:00:00\u001b[0m\n",
            "\u001b[2K   \u001b[90m━━━━━━━━━━━━━━━━━━━━━━━━━━━━━━━━━━━━━━━━\u001b[0m \u001b[32m130.6/130.6 kB\u001b[0m \u001b[31m4.8 MB/s\u001b[0m eta \u001b[36m0:00:00\u001b[0m\n",
            "\u001b[2K   \u001b[90m━━━━━━━━━━━━━━━━━━━━━━━━━━━━━━━━━━━━━━━━\u001b[0m \u001b[32m129.3/129.3 kB\u001b[0m \u001b[31m10.0 MB/s\u001b[0m eta \u001b[36m0:00:00\u001b[0m\n",
            "\u001b[2K   \u001b[90m━━━━━━━━━━━━━━━━━━━━━━━━━━━━━━━━━━━━━━━━\u001b[0m \u001b[32m150.9/150.9 kB\u001b[0m \u001b[31m11.4 MB/s\u001b[0m eta \u001b[36m0:00:00\u001b[0m\n",
            "\u001b[2K   \u001b[90m━━━━━━━━━━━━━━━━━━━━━━━━━━━━━━━━━━━━━━━━\u001b[0m \u001b[32m45.2/45.2 kB\u001b[0m \u001b[31m3.6 MB/s\u001b[0m eta \u001b[36m0:00:00\u001b[0m\n",
            "\u001b[?25h"
          ]
        }
      ],
      "source": [
        "# Install the openai-agents library\n",
        "!pip install -Uq openai-agents\n",
        "!pip install -Uq openai-agents pydantic"
      ]
    },
    {
      "cell_type": "markdown",
      "source": [
        "#Import Asyncio to run asynchronus functions"
      ],
      "metadata": {
        "id": "JJveOPlKdwWS"
      }
    },
    {
      "cell_type": "code",
      "source": [
        "# Import the nest_asyncio library\n",
        "import nest_asyncio\n",
        "# Apply nest_asyncio to allow asyncio to run in a nested environment (like Colab)\n",
        "nest_asyncio.apply()"
      ],
      "metadata": {
        "id": "dcTXgbvfdzSk"
      },
      "execution_count": 2,
      "outputs": []
    },
    {
      "cell_type": "markdown",
      "source": [
        "#Set Gemini API key as Default API reference instaed of Open API key and Setting Up Configurations"
      ],
      "metadata": {
        "id": "r8JGJNHVd3IT"
      }
    },
    {
      "cell_type": "code",
      "source": [
        "# Import necessary libraries\n",
        "import os\n",
        "from agents.run import RunConfig\n",
        "from google.colab import userdata\n",
        "from pydantic import BaseModel\n",
        "\n",
        "from agents import (\n",
        "    Agent,\n",
        "    GuardrailFunctionOutput,\n",
        "    InputGuardrailTripwireTriggered,\n",
        "    OutputGuardrailTripwireTriggered,\n",
        "    RunContextWrapper,\n",
        "    Runner,\n",
        "    TResponseInputItem,\n",
        "    input_guardrail,\n",
        "    output_guardrail,\n",
        "    set_default_openai_api,\n",
        "    AsyncOpenAI,\n",
        "    OpenAIChatCompletionsModel,\n",
        "    set_default_openai_client,\n",
        "    set_tracing_disabled,\n",
        ")\n",
        "\n",
        "# Get the Gemini API key from Colab user data secrets\n",
        "gemini_api_key = userdata.get('GEMINI_API_KEY')\n",
        "\n",
        "# Disable tracing for the agents library\n",
        "set_tracing_disabled(True)\n",
        "# Set the default OpenAI API to chat completions - this is needed to use the AsyncOpenAI client with Gemini\n",
        "set_default_openai_api(\"chat_completions\")\n",
        "\n",
        "# Create an AsyncOpenAI client with the Gemini API key and base URL\n",
        "external_client = AsyncOpenAI(\n",
        "    api_key=gemini_api_key,\n",
        "    base_url=\"https://generativelanguage.googleapis.com/v1beta/openai/\",\n",
        ")\n",
        "# Set the default OpenAI client to the external client\n",
        "set_default_openai_client(external_client)\n",
        "\n",
        "# Create an OpenAIChatCompletionsModel instance using the Gemini 2.0 Flash model\n",
        "model = OpenAIChatCompletionsModel(\n",
        "    model=\"gemini-2.0-flash\",\n",
        "    openai_client= external_client\n",
        ")\n",
        "\n",
        "# Configure the run with the specified model, model provider, and tracing disabled\n",
        "config = RunConfig(\n",
        "    model=model,\n",
        "    model_provider=external_client,\n",
        "    tracing_disabled=True\n",
        ")"
      ],
      "metadata": {
        "id": "cRxtw5uld6JB"
      },
      "execution_count": 5,
      "outputs": []
    },
    {
      "cell_type": "markdown",
      "source": [
        "#Guardrails\n",
        "##1. Input Guardrail"
      ],
      "metadata": {
        "id": "3hdk_zCheC_A"
      }
    },
    {
      "cell_type": "code",
      "source": [
        "# Define the output type for the guardrail agent\n",
        "class MathHomeworkOutput(BaseModel):\n",
        "    is_math_homework: bool\n",
        "    reasoning: str\n",
        "\n",
        "# Create an agent specifically for checking if the input is math homework\n",
        "guardrail_agent = Agent(\n",
        "    name=\"Guardrail check\",\n",
        "    instructions=\"Check if the user is asking you to do their math homework.\",\n",
        "    output_type=MathHomeworkOutput,\n",
        ")\n",
        "\n",
        "# Define the input guardrail function\n",
        "@input_guardrail\n",
        "async def math_guardrail(\n",
        "    ctx: RunContextWrapper[None], agent: Agent, input: str | list[TResponseInputItem]\n",
        ") -> GuardrailFunctionOutput:\n",
        "    # Run the guardrail agent with the user input to check for math homework\n",
        "    result = await Runner.run(guardrail_agent, input, context=ctx.context, run_config = config)\n",
        "\n",
        "    # Return the guardrail output, triggering the tripwire if it's math homework\n",
        "    return GuardrailFunctionOutput(\n",
        "        output_info=result.final_output,\n",
        "        # tripwire_triggered=False #result.final_output.is_math_homework, # This line seems to be commented out, keeping the next line active\n",
        "        tripwire_triggered=result.final_output.is_math_homework,\n",
        "    )\n",
        "\n",
        "# Create the main agent with the math homework input guardrail\n",
        "agent = Agent(\n",
        "    name=\"Customer support agent\",\n",
        "    instructions=\"You are a customer support agent. You help customers with their questions.\",\n",
        "    input_guardrails=[math_guardrail],\n",
        ")\n",
        "\n",
        "# This block tests if the guardrail trips when the input is math homework\n",
        "try:\n",
        "    result = await Runner.run(agent, \"Hello, can you help me solve for x: 2x + 3 = 11?\", run_config = config)\n",
        "    print(\"Guardrail didn't trip - this is unexpected\")\n",
        "    print(result.final_output)\n",
        "\n",
        "except InputGuardrailTripwireTriggered:\n",
        "    print(\"Test 1 successful\")\n",
        "    print(\"Math homework guardrail tripped\")\n",
        "\n",
        "# This block tests if the agent runs normally when the input is not math homework\n",
        "try:\n",
        "    result = await Runner.run(agent, \"Hello\", run_config = config)\n",
        "    print(\"Test 2 successful\")\n",
        "    print(result.final_output)\n",
        "\n",
        "except InputGuardrailTripwireTriggered:\n",
        "    print(\"Math homework guardrail tripped\")"
      ],
      "metadata": {
        "colab": {
          "base_uri": "https://localhost:8080/"
        },
        "id": "LvlF7ivh9w6-",
        "outputId": "a98f3359-599c-4665-a3bc-f96b45d69508"
      },
      "execution_count": 7,
      "outputs": [
        {
          "output_type": "stream",
          "name": "stdout",
          "text": [
            "Test 1 successful\n",
            "Math homework guardrail tripped\n",
            "Test 2 successful\n",
            "Hi there! How can I help you today?\n",
            "\n"
          ]
        }
      ]
    },
    {
      "cell_type": "markdown",
      "source": [
        "##2. Output Guardrail"
      ],
      "metadata": {
        "id": "0J4sLopcAzJf"
      }
    },
    {
      "cell_type": "code",
      "source": [
        "# Define the output type for the main agent's response\n",
        "class MessageOutput(BaseModel):\n",
        "    response: str\n",
        "\n",
        "# Define the output type for the output guardrail agent\n",
        "class MathOutput(BaseModel):\n",
        "    is_math: bool\n",
        "    reasoning: str\n",
        "\n",
        "# Create an agent specifically for checking if the output includes math\n",
        "guardrail_agent2 = Agent(\n",
        "    name=\"Guardrail check\",\n",
        "    instructions=\"Check if the output includes any math.\",\n",
        "    output_type=MathOutput,\n",
        ")\n",
        "\n",
        "# Define the output guardrail function\n",
        "@output_guardrail\n",
        "async def math_guardrail2(\n",
        "    ctx: RunContextWrapper, agent: Agent, output: MessageOutput\n",
        ") -> GuardrailFunctionOutput:\n",
        "    # Run the guardrail agent with the agent's output to check for math\n",
        "    result = await Runner.run(guardrail_agent2, output.response, context=ctx.context, run_config = config)\n",
        "\n",
        "    # Return the guardrail output, triggering the tripwire if the output contains math\n",
        "    return GuardrailFunctionOutput(\n",
        "        output_info=result.final_output,\n",
        "        tripwire_triggered=result.final_output.is_math,\n",
        "    )\n",
        "\n",
        "# Create the main agent with the math output guardrail and a specified output type\n",
        "agent2 = Agent(\n",
        "    name=\"Customer support agent\",\n",
        "    instructions=\"You are a customer support agent. You help customers with their questions.\",\n",
        "    output_guardrails=[math_guardrail2],\n",
        "    output_type=MessageOutput,\n",
        ")\n",
        "\n",
        "# This block tests if the output guardrail trips when the output contains math\n",
        "try:\n",
        "    await Runner.run(agent2, \"Hello, can you help me solve for x: 2x + 3 = 11?\", run_config = config)\n",
        "    print(\"Guardrail didn't trip - this is unexpected\")\n",
        "\n",
        "except OutputGuardrailTripwireTriggered:\n",
        "    print(\"Test 1 successful\")\n",
        "    print(\"Math output guardrail tripped\")\n",
        "\n",
        "# This block tests if the agent runs normally when the output does not contain math\n",
        "try:\n",
        "    result = await Runner.run(agent, \"Hello\", run_config = config)\n",
        "    print(\"Test 2 successful\")\n",
        "    print(result.final_output)\n",
        "\n",
        "except InputGuardrailTripwireTriggered:\n",
        "    print(\"Math homework guardrail tripped\")"
      ],
      "metadata": {
        "colab": {
          "base_uri": "https://localhost:8080/"
        },
        "id": "RQG2yMbGA6i5",
        "outputId": "858aef79-befd-4128-d8aa-dfa3388d289c"
      },
      "execution_count": 9,
      "outputs": [
        {
          "output_type": "stream",
          "name": "stdout",
          "text": [
            "Test 1 successful\n",
            "Math output guardrail tripped\n",
            "Test 2 successful\n",
            "Hi there! How can I help you today?\n",
            "\n"
          ]
        }
      ]
    }
  ]
}