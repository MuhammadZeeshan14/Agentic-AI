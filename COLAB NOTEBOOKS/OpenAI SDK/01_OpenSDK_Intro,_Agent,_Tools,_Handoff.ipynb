{
  "nbformat": 4,
  "nbformat_minor": 0,
  "metadata": {
    "colab": {
      "provenance": []
    },
    "kernelspec": {
      "name": "python3",
      "display_name": "Python 3"
    },
    "language_info": {
      "name": "python"
    }
  },
  "cells": [
    {
      "cell_type": "markdown",
      "source": [
        "#Import OpenAI SDK"
      ],
      "metadata": {
        "id": "OImFEEbNk51L"
      }
    },
    {
      "cell_type": "code",
      "source": [
        "# Install the openai-agents library.\n",
        "!pip install -q openai-agents"
      ],
      "metadata": {
        "id": "GK3K5ju2j-ko"
      },
      "execution_count": 15,
      "outputs": []
    },
    {
      "cell_type": "markdown",
      "source": [
        "#Import Asyncio to run asynchronus functions"
      ],
      "metadata": {
        "id": "yxMNAQ20lFRE"
      }
    },
    {
      "cell_type": "code",
      "execution_count": 16,
      "metadata": {
        "id": "gaTKLiK_j6dQ"
      },
      "outputs": [],
      "source": [
        "# Apply nest_asyncio to allow nested asynchronous operations, which is useful in environments like Colab.\n",
        "import nest_asyncio\n",
        "nest_asyncio.apply()"
      ]
    },
    {
      "cell_type": "markdown",
      "source": [
        "#Set Gemini API key as Default API reference instaed of Open API key"
      ],
      "metadata": {
        "id": "gJi9o1Z7lXFL"
      }
    },
    {
      "cell_type": "code",
      "source": [
        "# Import necessary classes and functions from the agents library and google.colab.\n",
        "from agents import Agent, Runner, AsyncOpenAI, set_default_openai_client, set_tracing_disabled, set_default_openai_api, OpenAIChatCompletionsModel\n",
        "from google.colab import userdata\n",
        "\n",
        "# Get the Gemini API key from Colab's user data secrets.\n",
        "gemini_api_key = userdata.get('GEMINI_API_KEY')\n",
        "\n",
        "# Disable tracing for the agents.\n",
        "set_tracing_disabled(True)\n",
        "# Set the default OpenAI API to chat_completions.\n",
        "set_default_openai_api(\"chat_completions\")\n",
        "\n",
        "# Create an AsyncOpenAI client configured to use the Gemini API endpoint.\n",
        "external_client = AsyncOpenAI(\n",
        "    api_key=gemini_api_key,\n",
        "    base_url=\"https://generativelanguage.googleapis.com/v1beta/openai/\",\n",
        ")\n",
        "# Set the external client as the default OpenAI client.\n",
        "set_default_openai_client(external_client)\n",
        "\n",
        "# Create an OpenAIChatCompletionsModel instance using the Gemini 2.0 Flash model and the external client.\n",
        "model = OpenAIChatCompletionsModel(\n",
        "    model=\"gemini-2.0-flash\",\n",
        "    openai_client= external_client\n",
        ")"
      ],
      "metadata": {
        "id": "7P7c2rcIkGb6"
      },
      "execution_count": 17,
      "outputs": []
    },
    {
      "cell_type": "markdown",
      "source": [
        "#Agent"
      ],
      "metadata": {
        "id": "6k5mH0WwlqKK"
      }
    },
    {
      "cell_type": "code",
      "source": [
        "# Create an Agent named \"Assistant\" with a simple instruction.\n",
        "agent1 = Agent(\n",
        "    name=\"Assistant\",\n",
        "    instructions=\"You are a helpful assistant\",\n",
        "    model=model # Assign the configured model to the agent\n",
        ")\n",
        "\n",
        "# Run the agent synchronously with a greeting message.\n",
        "result = Runner.run_sync(\n",
        "    agent1,\n",
        "    \"hi my name is zeeshan\"\n",
        ")\n",
        "# Print the final output from the agent.\n",
        "print(\"[Output]:\",result.final_output)"
      ],
      "metadata": {
        "colab": {
          "base_uri": "https://localhost:8080/"
        },
        "id": "XBd9rbKPkKd8",
        "outputId": "87136ef2-376f-4785-f656-44c4daf16522"
      },
      "execution_count": 18,
      "outputs": [
        {
          "output_type": "stream",
          "name": "stdout",
          "text": [
            "[Output]: Hello Zeeshan! How can I help you today?\n",
            "\n"
          ]
        }
      ]
    },
    {
      "cell_type": "markdown",
      "source": [
        "#Tools"
      ],
      "metadata": {
        "id": "sgctZ5b9lzch"
      }
    },
    {
      "cell_type": "code",
      "source": [
        "# Import the function_tool decorator.\n",
        "from agents import function_tool # rest of the imports are already done above\n",
        "\n",
        "# Define a function tool to get the current weather for a city.\n",
        "@function_tool\n",
        "def get_current_weather(city:str):\n",
        "    \"\"\"Returns Weather for the city\n",
        "\n",
        "    Args:\n",
        "        city:city name\n",
        "\n",
        "    Returns:\n",
        "        Weather:str\"\"\"\n",
        "\n",
        "    # Return a predefined weather string.\n",
        "    return f\"The weather in {city} is sunny\"\n",
        "\n",
        "# Create a new Agent with the added get_current_weather tool.\n",
        "agent2 = Agent(\n",
        "    name=\"Assistant\",\n",
        "    instructions=\"You are a helpful assistant\",\n",
        "    model=model, # Assign the configured model to the agent\n",
        "    tools=[get_current_weather] # Add the weather tool to the agent\n",
        ")\n",
        "\n",
        "# Run the agent synchronously with a query about the weather in Karachi.\n",
        "result = Runner.run_sync(\n",
        "    agent2,\n",
        "    \"what is the weather in Karachi\"\n",
        ")\n",
        "# Print the final output from the agent.\n",
        "print(\"[Output]:\",result.final_output)"
      ],
      "metadata": {
        "colab": {
          "base_uri": "https://localhost:8080/"
        },
        "id": "1AJXMioVkTEH",
        "outputId": "7afad2e4-409a-4775-a34a-c3d29fde0258"
      },
      "execution_count": 19,
      "outputs": [
        {
          "output_type": "stream",
          "name": "stdout",
          "text": [
            "[Output]: The weather in Karachi is sunny.\n",
            "\n"
          ]
        }
      ]
    },
    {
      "cell_type": "markdown",
      "source": [
        "#Handoffs"
      ],
      "metadata": {
        "id": "KsN4Rs6Tt_pT"
      }
    },
    {
      "cell_type": "code",
      "source": [
        "# Import the function_tool decorator.\n",
        "from agents import function_tool\n",
        "\n",
        "# Define a function tool to get the current weather for a city.\n",
        "@function_tool\n",
        "def get_current_weather(city:str):\n",
        "    \"\"\"Returns Weather for the city\n",
        "\n",
        "    Args:\n",
        "        city:city name\n",
        "\n",
        "    Returns:\n",
        "        Weather:str\"\"\"\n",
        "\n",
        "    # Return a predefined weather string.\n",
        "    return f\"The weather in {city} is sunny\"\n",
        "\n",
        "# Create a PIAIC Expert Agent with instructions and model.\n",
        "PIAIC_expert : Agent = Agent(\n",
        "    name=\"PIAIC Expert Agent\",\n",
        "    instructions=\"You are a helpful PIAIC assistant, You answer all questions about Panaversity \",\n",
        "    model=model,\n",
        "    handoff_description=\"Panaversity Expert\"\n",
        ")\n",
        "\n",
        "# Create an Agentic AI Expert Agent with instructions and model.\n",
        "AgenticAI_expert : Agent = Agent(\n",
        "    name=\"Agentic AI Expert Agent\",\n",
        "    instructions=\"You are a helpful Agentic AI assistant, You answer all questions about Agentic AI \",\n",
        "    model=model,\n",
        "    handoff_description=\"Agentic AI Expert\"\n",
        ")\n",
        "\n",
        "# Create a Triage agent with instructions, model, tools, and handoffs to other agents.\n",
        "triage_agent: Agent = Agent(\n",
        "    name=\"Triage\",\n",
        "    instructions=\"You are general chat assistant, You observe the conversation with the user and let relevant agents answer back to the user\",\n",
        "    model=model,\n",
        "    tools=[get_current_weather], # Add the weather tool\n",
        "    handoffs=[PIAIC_expert, AgenticAI_expert] # Define agents for handoff\n",
        ")\n",
        "\n",
        "# Run the triage agent with a greeting message and print the output.\n",
        "result = Runner.run_sync(\n",
        "    triage_agent,\n",
        "    \"Hi My name is Zeeshan\"\n",
        ")\n",
        "print(f\"[{result.last_agent.name}Output]:\",result.final_output)\n",
        "\n",
        "# Run the triage agent with a weather query and print the output.\n",
        "result = Runner.run_sync(\n",
        "    triage_agent,\n",
        "    \"what is the weather in Karachi\"\n",
        ")\n",
        "print(f\"[{result.last_agent.name}Output]:\",result.final_output)\n",
        "\n",
        "# Run the triage agent with a PIAIC related query and print the output.\n",
        "result = Runner.run_sync(\n",
        "    triage_agent,\n",
        "    \"Who is the founder of PIAIC\"\n",
        ")\n",
        "print(f\"[{result.last_agent.name}Output]:\",result.final_output)\n",
        "\n",
        "# Run the triage agent with an Agentic AI related query and print the output.\n",
        "result = Runner.run_sync(\n",
        "    triage_agent,\n",
        "    \"when was the term 'Agentic AI' first coined\"\n",
        ")\n",
        "print(f\"[{result.last_agent.name}Output]:\",result.final_output)"
      ],
      "metadata": {
        "colab": {
          "base_uri": "https://localhost:8080/"
        },
        "id": "kG1xb7kZuCCh",
        "outputId": "4f1d279a-9fc7-4a1e-b218-0465ab9d852c"
      },
      "execution_count": 28,
      "outputs": [
        {
          "output_type": "stream",
          "name": "stdout",
          "text": [
            "[TriageOutput]: Hello Zeeshan, how can I help you today?\n",
            "\n",
            "[TriageOutput]: The weather in Karachi is sunny.\n",
            "\n",
            "[PIAIC Expert AgentOutput]: The founder of PIAIC (Presidential Initiative for Artificial Intelligence & Computing) is Mr. Zia Khan.\n",
            "\n",
            "[Agentic AI Expert AgentOutput]: Unfortunately, there's no single, definitive answer to when the term \"Agentic AI\" was first coined and by whom. It's a relatively new and evolving concept, and its usage has emerged gradually. Here's what I can tell you based on my knowledge:\n",
            "\n",
            "*   **Emergence and Gradual Adoption:** The term \"agentic AI\" gained traction as AI systems became more autonomous and capable of independent action. Instead of being purely reactive, these systems began to exhibit behaviors like planning, goal-setting, and learning from experience. This shift led to the need for a term to describe this new generation of AI.\n",
            "\n",
            "*   **Related Concepts:** The ideas behind agentic AI have roots in earlier fields like:\n",
            "\n",
            "    *   **Multi-Agent Systems (MAS):** A long-standing research area that studies how multiple intelligent agents can interact to solve problems.\n",
            "    *   **Autonomous Robotics:** The field of creating robots that can operate without constant human control.\n",
            "    *   **Reinforcement Learning:** A type of machine learning where an agent learns to make decisions by receiving rewards or penalties.\n",
            "\n",
            "*   **Lack of a Formal Definition:** \"Agentic AI\" doesn't yet have a universally agreed-upon formal definition. Different researchers and practitioners may use it slightly differently. This makes it difficult to pinpoint its exact origin.\n",
            "\n",
            "*   **Recent Popularity:** The term has become increasingly popular in recent years (around 2022-2023) due to advancements in large language models (LLMs) and their ability to perform more complex tasks with less human intervention.\n",
            "\n",
            "**In summary:**\n",
            "\n",
            "While it's hard to say precisely when \"Agentic AI\" was first used, it's a relatively new term that emerged as AI systems gained more autonomy. It's closely related to older concepts in multi-agent systems, autonomous robotics, and reinforcement learning. The term's popularity has surged recently thanks to advances in LLMs.\n",
            "\n"
          ]
        }
      ]
    },
    {
      "cell_type": "markdown",
      "source": [
        "#Agent Visualization\n",
        "shows a graphical reprensation of agent heirachy"
      ],
      "metadata": {
        "id": "YHwMZZPLvV8T"
      }
    },
    {
      "cell_type": "code",
      "source": [
        "# Install the visualization extension for openai-agents.\n",
        "!pip install \"openai-agents[viz]\""
      ],
      "metadata": {
        "collapsed": true,
        "colab": {
          "base_uri": "https://localhost:8080/"
        },
        "id": "HUdKy0GWvxB0",
        "outputId": "448a9cb7-9d62-48c2-82fe-8f1580def1a7"
      },
      "execution_count": 13,
      "outputs": [
        {
          "output_type": "stream",
          "name": "stdout",
          "text": [
            "Requirement already satisfied: openai-agents[viz] in /usr/local/lib/python3.11/dist-packages (0.1.0)\n",
            "Requirement already satisfied: griffe<2,>=1.5.6 in /usr/local/lib/python3.11/dist-packages (from openai-agents[viz]) (1.7.3)\n",
            "Requirement already satisfied: mcp<2,>=1.9.4 in /usr/local/lib/python3.11/dist-packages (from openai-agents[viz]) (1.10.1)\n",
            "Requirement already satisfied: openai>=1.87.0 in /usr/local/lib/python3.11/dist-packages (from openai-agents[viz]) (1.93.0)\n",
            "Requirement already satisfied: pydantic<3,>=2.10 in /usr/local/lib/python3.11/dist-packages (from openai-agents[viz]) (2.11.7)\n",
            "Requirement already satisfied: requests<3,>=2.0 in /usr/local/lib/python3.11/dist-packages (from openai-agents[viz]) (2.32.3)\n",
            "Requirement already satisfied: types-requests<3,>=2.0 in /usr/local/lib/python3.11/dist-packages (from openai-agents[viz]) (2.32.4.20250611)\n",
            "Requirement already satisfied: typing-extensions<5,>=4.12.2 in /usr/local/lib/python3.11/dist-packages (from openai-agents[viz]) (4.14.0)\n",
            "Requirement already satisfied: graphviz>=0.17 in /usr/local/lib/python3.11/dist-packages (from openai-agents[viz]) (0.21)\n",
            "Requirement already satisfied: colorama>=0.4 in /usr/local/lib/python3.11/dist-packages (from griffe<2,>=1.5.6->openai-agents[viz]) (0.4.6)\n",
            "Requirement already satisfied: anyio>=4.5 in /usr/local/lib/python3.11/dist-packages (from mcp<2,>=1.9.4->openai-agents[viz]) (4.9.0)\n",
            "Requirement already satisfied: httpx-sse>=0.4 in /usr/local/lib/python3.11/dist-packages (from mcp<2,>=1.9.4->openai-agents[viz]) (0.4.1)\n",
            "Requirement already satisfied: httpx>=0.27 in /usr/local/lib/python3.11/dist-packages (from mcp<2,>=1.9.4->openai-agents[viz]) (0.28.1)\n",
            "Requirement already satisfied: jsonschema>=4.20.0 in /usr/local/lib/python3.11/dist-packages (from mcp<2,>=1.9.4->openai-agents[viz]) (4.24.0)\n",
            "Requirement already satisfied: pydantic-settings>=2.5.2 in /usr/local/lib/python3.11/dist-packages (from mcp<2,>=1.9.4->openai-agents[viz]) (2.10.1)\n",
            "Requirement already satisfied: python-multipart>=0.0.9 in /usr/local/lib/python3.11/dist-packages (from mcp<2,>=1.9.4->openai-agents[viz]) (0.0.20)\n",
            "Requirement already satisfied: sse-starlette>=1.6.1 in /usr/local/lib/python3.11/dist-packages (from mcp<2,>=1.9.4->openai-agents[viz]) (2.3.6)\n",
            "Requirement already satisfied: starlette>=0.27 in /usr/local/lib/python3.11/dist-packages (from mcp<2,>=1.9.4->openai-agents[viz]) (0.46.2)\n",
            "Requirement already satisfied: uvicorn>=0.23.1 in /usr/local/lib/python3.11/dist-packages (from mcp<2,>=1.9.4->openai-agents[viz]) (0.35.0)\n",
            "Requirement already satisfied: distro<2,>=1.7.0 in /usr/local/lib/python3.11/dist-packages (from openai>=1.87.0->openai-agents[viz]) (1.9.0)\n",
            "Requirement already satisfied: jiter<1,>=0.4.0 in /usr/local/lib/python3.11/dist-packages (from openai>=1.87.0->openai-agents[viz]) (0.10.0)\n",
            "Requirement already satisfied: sniffio in /usr/local/lib/python3.11/dist-packages (from openai>=1.87.0->openai-agents[viz]) (1.3.1)\n",
            "Requirement already satisfied: tqdm>4 in /usr/local/lib/python3.11/dist-packages (from openai>=1.87.0->openai-agents[viz]) (4.67.1)\n",
            "Requirement already satisfied: annotated-types>=0.6.0 in /usr/local/lib/python3.11/dist-packages (from pydantic<3,>=2.10->openai-agents[viz]) (0.7.0)\n",
            "Requirement already satisfied: pydantic-core==2.33.2 in /usr/local/lib/python3.11/dist-packages (from pydantic<3,>=2.10->openai-agents[viz]) (2.33.2)\n",
            "Requirement already satisfied: typing-inspection>=0.4.0 in /usr/local/lib/python3.11/dist-packages (from pydantic<3,>=2.10->openai-agents[viz]) (0.4.1)\n",
            "Requirement already satisfied: charset-normalizer<4,>=2 in /usr/local/lib/python3.11/dist-packages (from requests<3,>=2.0->openai-agents[viz]) (3.4.2)\n",
            "Requirement already satisfied: idna<4,>=2.5 in /usr/local/lib/python3.11/dist-packages (from requests<3,>=2.0->openai-agents[viz]) (3.10)\n",
            "Requirement already satisfied: urllib3<3,>=1.21.1 in /usr/local/lib/python3.11/dist-packages (from requests<3,>=2.0->openai-agents[viz]) (2.4.0)\n",
            "Requirement already satisfied: certifi>=2017.4.17 in /usr/local/lib/python3.11/dist-packages (from requests<3,>=2.0->openai-agents[viz]) (2025.6.15)\n",
            "Requirement already satisfied: httpcore==1.* in /usr/local/lib/python3.11/dist-packages (from httpx>=0.27->mcp<2,>=1.9.4->openai-agents[viz]) (1.0.9)\n",
            "Requirement already satisfied: h11>=0.16 in /usr/local/lib/python3.11/dist-packages (from httpcore==1.*->httpx>=0.27->mcp<2,>=1.9.4->openai-agents[viz]) (0.16.0)\n",
            "Requirement already satisfied: attrs>=22.2.0 in /usr/local/lib/python3.11/dist-packages (from jsonschema>=4.20.0->mcp<2,>=1.9.4->openai-agents[viz]) (25.3.0)\n",
            "Requirement already satisfied: jsonschema-specifications>=2023.03.6 in /usr/local/lib/python3.11/dist-packages (from jsonschema>=4.20.0->mcp<2,>=1.9.4->openai-agents[viz]) (2025.4.1)\n",
            "Requirement already satisfied: referencing>=0.28.4 in /usr/local/lib/python3.11/dist-packages (from jsonschema>=4.20.0->mcp<2,>=1.9.4->openai-agents[viz]) (0.36.2)\n",
            "Requirement already satisfied: rpds-py>=0.7.1 in /usr/local/lib/python3.11/dist-packages (from jsonschema>=4.20.0->mcp<2,>=1.9.4->openai-agents[viz]) (0.26.0)\n",
            "Requirement already satisfied: python-dotenv>=0.21.0 in /usr/local/lib/python3.11/dist-packages (from pydantic-settings>=2.5.2->mcp<2,>=1.9.4->openai-agents[viz]) (1.1.1)\n",
            "Requirement already satisfied: click>=7.0 in /usr/local/lib/python3.11/dist-packages (from uvicorn>=0.23.1->mcp<2,>=1.9.4->openai-agents[viz]) (8.2.1)\n"
          ]
        }
      ]
    },
    {
      "cell_type": "code",
      "source": [
        "# Import Agent and function_tool from agents, and draw_graph from the visualization extension.\n",
        "from agents import Agent, function_tool\n",
        "from agents.extensions.visualization import draw_graph"
      ],
      "metadata": {
        "id": "F1Ej-B6yv00y"
      },
      "execution_count": 24,
      "outputs": []
    },
    {
      "cell_type": "code",
      "source": [
        "# Draw a graph visualization of agent1.\n",
        "draw_graph(agent1)"
      ],
      "metadata": {
        "colab": {
          "base_uri": "https://localhost:8080/",
          "height": 292
        },
        "id": "xw42LDOMx8eP",
        "outputId": "a5e28017-05df-4856-ca20-f2060a2dc1b0"
      },
      "execution_count": 25,
      "outputs": [
        {
          "output_type": "execute_result",
          "data": {
            "image/svg+xml": "<?xml version=\"1.0\" encoding=\"UTF-8\" standalone=\"no\"?>\n<!DOCTYPE svg PUBLIC \"-//W3C//DTD SVG 1.1//EN\"\n \"http://www.w3.org/Graphics/SVG/1.1/DTD/svg11.dtd\">\n<!-- Generated by graphviz version 2.43.0 (0)\n -->\n<!-- Title: G Pages: 1 -->\n<svg width=\"116pt\" height=\"203pt\"\n viewBox=\"0.00 0.00 116.00 203.05\" xmlns=\"http://www.w3.org/2000/svg\" xmlns:xlink=\"http://www.w3.org/1999/xlink\">\n<g id=\"graph0\" class=\"graph\" transform=\"scale(1 1) rotate(0) translate(4 199.05)\">\n<title>G</title>\n<polygon fill=\"white\" stroke=\"transparent\" points=\"-4,4 -4,-199.05 112,-199.05 112,4 -4,4\"/>\n<!-- __start__ -->\n<g id=\"node1\" class=\"node\">\n<title>__start__</title>\n<ellipse fill=\"lightblue\" stroke=\"black\" cx=\"54\" cy=\"-178.79\" rx=\"51.74\" ry=\"16.03\"/>\n<text text-anchor=\"middle\" x=\"54\" y=\"-175.09\" font-family=\"Arial\" font-size=\"14.00\">__start__</text>\n</g>\n<!-- Assistant -->\n<g id=\"node3\" class=\"node\">\n<title>Assistant</title>\n<polygon fill=\"lightyellow\" stroke=\"black\" points=\"108,-126.53 0,-126.53 0,-68.53 108,-68.53 108,-126.53\"/>\n<text text-anchor=\"middle\" x=\"54\" y=\"-93.83\" font-family=\"Arial\" font-size=\"14.00\">Assistant</text>\n</g>\n<!-- __start__&#45;&gt;Assistant -->\n<g id=\"edge1\" class=\"edge\">\n<title>__start__&#45;&gt;Assistant</title>\n<path fill=\"none\" stroke=\"black\" stroke-width=\"1.5\" d=\"M54,-162.51C54,-155.12 54,-145.89 54,-136.76\"/>\n<polygon fill=\"black\" stroke=\"black\" stroke-width=\"1.5\" points=\"57.5,-136.6 54,-126.6 50.5,-136.6 57.5,-136.6\"/>\n</g>\n<!-- __end__ -->\n<g id=\"node2\" class=\"node\">\n<title>__end__</title>\n<ellipse fill=\"lightblue\" stroke=\"black\" cx=\"54\" cy=\"-16.26\" rx=\"48.58\" ry=\"16.03\"/>\n<text text-anchor=\"middle\" x=\"54\" y=\"-12.56\" font-family=\"Arial\" font-size=\"14.00\">__end__</text>\n</g>\n<!-- Assistant&#45;&gt;__end__ -->\n<g id=\"edge2\" class=\"edge\">\n<title>Assistant&#45;&gt;__end__</title>\n<path fill=\"none\" stroke=\"black\" stroke-width=\"1.5\" d=\"M54,-68.36C54,-60.07 54,-51.04 54,-42.92\"/>\n<polygon fill=\"black\" stroke=\"black\" stroke-width=\"1.5\" points=\"57.5,-42.89 54,-32.89 50.5,-42.89 57.5,-42.89\"/>\n</g>\n</g>\n</svg>\n",
            "text/plain": [
              "<graphviz.sources.Source at 0x7c759bd0b350>"
            ]
          },
          "metadata": {},
          "execution_count": 25
        }
      ]
    },
    {
      "cell_type": "code",
      "source": [
        "# Draw a graph visualization of agent2.\n",
        "draw_graph(agent2)"
      ],
      "metadata": {
        "colab": {
          "base_uri": "https://localhost:8080/",
          "height": 292
        },
        "id": "p5SSN8_KyAZB",
        "outputId": "d885f137-1c70-44df-fe50-19f07f98c596"
      },
      "execution_count": 26,
      "outputs": [
        {
          "output_type": "execute_result",
          "data": {
            "image/svg+xml": "<?xml version=\"1.0\" encoding=\"UTF-8\" standalone=\"no\"?>\n<!DOCTYPE svg PUBLIC \"-//W3C//DTD SVG 1.1//EN\"\n \"http://www.w3.org/Graphics/SVG/1.1/DTD/svg11.dtd\">\n<!-- Generated by graphviz version 2.43.0 (0)\n -->\n<!-- Title: G Pages: 1 -->\n<svg width=\"322pt\" height=\"203pt\"\n viewBox=\"0.00 0.00 321.79 203.05\" xmlns=\"http://www.w3.org/2000/svg\" xmlns:xlink=\"http://www.w3.org/1999/xlink\">\n<g id=\"graph0\" class=\"graph\" transform=\"scale(1 1) rotate(0) translate(4 199.05)\">\n<title>G</title>\n<polygon fill=\"white\" stroke=\"transparent\" points=\"-4,4 -4,-199.05 317.79,-199.05 317.79,4 -4,4\"/>\n<!-- __start__ -->\n<g id=\"node1\" class=\"node\">\n<title>__start__</title>\n<ellipse fill=\"lightblue\" stroke=\"black\" cx=\"214.79\" cy=\"-178.79\" rx=\"51.74\" ry=\"16.03\"/>\n<text text-anchor=\"middle\" x=\"214.79\" y=\"-175.09\" font-family=\"Arial\" font-size=\"14.00\">__start__</text>\n</g>\n<!-- Assistant -->\n<g id=\"node3\" class=\"node\">\n<title>Assistant</title>\n<polygon fill=\"lightyellow\" stroke=\"black\" points=\"268.79,-126.53 160.79,-126.53 160.79,-68.53 268.79,-68.53 268.79,-126.53\"/>\n<text text-anchor=\"middle\" x=\"214.79\" y=\"-93.83\" font-family=\"Arial\" font-size=\"14.00\">Assistant</text>\n</g>\n<!-- __start__&#45;&gt;Assistant -->\n<g id=\"edge1\" class=\"edge\">\n<title>__start__&#45;&gt;Assistant</title>\n<path fill=\"none\" stroke=\"black\" stroke-width=\"1.5\" d=\"M214.79,-162.51C214.79,-155.12 214.79,-145.89 214.79,-136.76\"/>\n<polygon fill=\"black\" stroke=\"black\" stroke-width=\"1.5\" points=\"218.29,-136.6 214.79,-126.6 211.29,-136.6 218.29,-136.6\"/>\n</g>\n<!-- __end__ -->\n<g id=\"node2\" class=\"node\">\n<title>__end__</title>\n<ellipse fill=\"lightblue\" stroke=\"black\" cx=\"48.79\" cy=\"-16.26\" rx=\"48.58\" ry=\"16.03\"/>\n<text text-anchor=\"middle\" x=\"48.79\" y=\"-12.56\" font-family=\"Arial\" font-size=\"14.00\">__end__</text>\n</g>\n<!-- Assistant&#45;&gt;__end__ -->\n<g id=\"edge4\" class=\"edge\">\n<title>Assistant&#45;&gt;__end__</title>\n<path fill=\"none\" stroke=\"black\" stroke-width=\"1.5\" d=\"M160.44,-70.57C135.45,-58.64 106.52,-44.83 84.36,-34.25\"/>\n<polygon fill=\"black\" stroke=\"black\" stroke-width=\"1.5\" points=\"85.85,-31.08 75.32,-29.93 82.83,-37.4 85.85,-31.08\"/>\n</g>\n<!-- get_current_weather -->\n<g id=\"node4\" class=\"node\">\n<title>get_current_weather</title>\n<ellipse fill=\"lightgreen\" stroke=\"black\" cx=\"214.79\" cy=\"-16.26\" rx=\"98.99\" ry=\"16.03\"/>\n<text text-anchor=\"middle\" x=\"214.79\" y=\"-12.56\" font-family=\"Arial\" font-size=\"14.00\">get_current_weather</text>\n</g>\n<!-- Assistant&#45;&gt;get_current_weather -->\n<g id=\"edge2\" class=\"edge\">\n<title>Assistant&#45;&gt;get_current_weather</title>\n<path fill=\"none\" stroke=\"black\" stroke-width=\"1.5\" stroke-dasharray=\"1,5\" d=\"M208.3,-68.36C207.92,-60.07 207.96,-51.04 208.43,-42.92\"/>\n<polygon fill=\"black\" stroke=\"black\" stroke-width=\"1.5\" points=\"211.92,-43.15 209.29,-32.89 204.95,-42.55 211.92,-43.15\"/>\n</g>\n<!-- get_current_weather&#45;&gt;Assistant -->\n<g id=\"edge3\" class=\"edge\">\n<title>get_current_weather&#45;&gt;Assistant</title>\n<path fill=\"none\" stroke=\"black\" stroke-width=\"1.5\" stroke-dasharray=\"1,5\" d=\"M220.29,-32.89C221.17,-40.23 221.59,-49.33 221.54,-58.34\"/>\n<polygon fill=\"black\" stroke=\"black\" stroke-width=\"1.5\" points=\"218.04,-58.27 221.28,-68.36 225.03,-58.45 218.04,-58.27\"/>\n</g>\n</g>\n</svg>\n",
            "text/plain": [
              "<graphviz.sources.Source at 0x7c759bd0a3d0>"
            ]
          },
          "metadata": {},
          "execution_count": 26
        }
      ]
    },
    {
      "cell_type": "code",
      "source": [
        "# Draw a graph visualization of the triage_agent.\n",
        "draw_graph(triage_agent)"
      ],
      "metadata": {
        "colab": {
          "base_uri": "https://localhost:8080/",
          "height": 417
        },
        "id": "AHNhEa3jyFXX",
        "outputId": "3295e1ff-74c3-4dc0-ad2c-94792439944c"
      },
      "execution_count": 29,
      "outputs": [
        {
          "output_type": "execute_result",
          "data": {
            "image/svg+xml": "<?xml version=\"1.0\" encoding=\"UTF-8\" standalone=\"no\"?>\n<!DOCTYPE svg PUBLIC \"-//W3C//DTD SVG 1.1//EN\"\n \"http://www.w3.org/Graphics/SVG/1.1/DTD/svg11.dtd\">\n<!-- Generated by graphviz version 2.43.0 (0)\n -->\n<!-- Title: G Pages: 1 -->\n<svg width=\"533pt\" height=\"297pt\"\n viewBox=\"0.00 0.00 532.99 297.05\" xmlns=\"http://www.w3.org/2000/svg\" xmlns:xlink=\"http://www.w3.org/1999/xlink\">\n<g id=\"graph0\" class=\"graph\" transform=\"scale(1 1) rotate(0) translate(4 293.05)\">\n<title>G</title>\n<polygon fill=\"white\" stroke=\"transparent\" points=\"-4,4 -4,-293.05 528.99,-293.05 528.99,4 -4,4\"/>\n<!-- __start__ -->\n<g id=\"node1\" class=\"node\">\n<title>__start__</title>\n<ellipse fill=\"lightblue\" stroke=\"black\" cx=\"189.99\" cy=\"-272.79\" rx=\"51.74\" ry=\"16.03\"/>\n<text text-anchor=\"middle\" x=\"189.99\" y=\"-269.09\" font-family=\"Arial\" font-size=\"14.00\">__start__</text>\n</g>\n<!-- Triage -->\n<g id=\"node3\" class=\"node\">\n<title>Triage</title>\n<polygon fill=\"lightyellow\" stroke=\"black\" points=\"243.99,-220.53 135.99,-220.53 135.99,-162.53 243.99,-162.53 243.99,-220.53\"/>\n<text text-anchor=\"middle\" x=\"189.99\" y=\"-187.83\" font-family=\"Arial\" font-size=\"14.00\">Triage</text>\n</g>\n<!-- __start__&#45;&gt;Triage -->\n<g id=\"edge1\" class=\"edge\">\n<title>__start__&#45;&gt;Triage</title>\n<path fill=\"none\" stroke=\"black\" stroke-width=\"1.5\" d=\"M189.99,-256.51C189.99,-249.12 189.99,-239.89 189.99,-230.76\"/>\n<polygon fill=\"black\" stroke=\"black\" stroke-width=\"1.5\" points=\"193.5,-230.6 189.99,-220.6 186.5,-230.6 193.5,-230.6\"/>\n</g>\n<!-- __end__ -->\n<g id=\"node2\" class=\"node\">\n<title>__end__</title>\n<ellipse fill=\"lightblue\" stroke=\"black\" cx=\"363.99\" cy=\"-16.26\" rx=\"48.58\" ry=\"16.03\"/>\n<text text-anchor=\"middle\" x=\"363.99\" y=\"-12.56\" font-family=\"Arial\" font-size=\"14.00\">__end__</text>\n</g>\n<!-- get_current_weather -->\n<g id=\"node4\" class=\"node\">\n<title>get_current_weather</title>\n<ellipse fill=\"lightgreen\" stroke=\"black\" cx=\"98.99\" cy=\"-97.53\" rx=\"98.99\" ry=\"16.03\"/>\n<text text-anchor=\"middle\" x=\"98.99\" y=\"-93.83\" font-family=\"Arial\" font-size=\"14.00\">get_current_weather</text>\n</g>\n<!-- Triage&#45;&gt;get_current_weather -->\n<g id=\"edge2\" class=\"edge\">\n<title>Triage&#45;&gt;get_current_weather</title>\n<path fill=\"none\" stroke=\"black\" stroke-width=\"1.5\" stroke-dasharray=\"1,5\" d=\"M155.92,-162.42C142.24,-149.33 127.14,-133.95 115.84,-121.56\"/>\n<polygon fill=\"black\" stroke=\"black\" stroke-width=\"1.5\" points=\"118.28,-119.04 109.01,-113.9 113.06,-123.7 118.28,-119.04\"/>\n</g>\n<!-- PIAIC Expert Agent -->\n<g id=\"node5\" class=\"node\">\n<title>PIAIC Expert Agent</title>\n<path fill=\"none\" stroke=\"black\" d=\"M336.49,-126.53C336.49,-126.53 227.49,-126.53 227.49,-126.53 221.49,-126.53 215.49,-120.53 215.49,-114.53 215.49,-114.53 215.49,-80.53 215.49,-80.53 215.49,-74.53 221.49,-68.53 227.49,-68.53 227.49,-68.53 336.49,-68.53 336.49,-68.53 342.49,-68.53 348.49,-74.53 348.49,-80.53 348.49,-80.53 348.49,-114.53 348.49,-114.53 348.49,-120.53 342.49,-126.53 336.49,-126.53\"/>\n<text text-anchor=\"middle\" x=\"281.99\" y=\"-93.83\" font-family=\"Arial\" font-size=\"14.00\">PIAIC Expert Agent</text>\n</g>\n<!-- Triage&#45;&gt;PIAIC Expert Agent -->\n<g id=\"edge4\" class=\"edge\">\n<title>Triage&#45;&gt;PIAIC Expert Agent</title>\n<path fill=\"none\" stroke=\"black\" stroke-width=\"1.5\" d=\"M218.1,-162.42C227.11,-153.41 237.21,-143.32 246.67,-133.86\"/>\n<polygon fill=\"black\" stroke=\"black\" stroke-width=\"1.5\" points=\"249.15,-136.32 253.75,-126.77 244.2,-131.37 249.15,-136.32\"/>\n</g>\n<!-- Agentic AI Expert Agent -->\n<g id=\"node6\" class=\"node\">\n<title>Agentic AI Expert Agent</title>\n<path fill=\"none\" stroke=\"black\" d=\"M512.99,-126.53C512.99,-126.53 378.99,-126.53 378.99,-126.53 372.99,-126.53 366.99,-120.53 366.99,-114.53 366.99,-114.53 366.99,-80.53 366.99,-80.53 366.99,-74.53 372.99,-68.53 378.99,-68.53 378.99,-68.53 512.99,-68.53 512.99,-68.53 518.99,-68.53 524.99,-74.53 524.99,-80.53 524.99,-80.53 524.99,-114.53 524.99,-114.53 524.99,-120.53 518.99,-126.53 512.99,-126.53\"/>\n<text text-anchor=\"middle\" x=\"445.99\" y=\"-93.83\" font-family=\"Arial\" font-size=\"14.00\">Agentic AI Expert Agent</text>\n</g>\n<!-- Triage&#45;&gt;Agentic AI Expert Agent -->\n<g id=\"edge6\" class=\"edge\">\n<title>Triage&#45;&gt;Agentic AI Expert Agent</title>\n<path fill=\"none\" stroke=\"black\" stroke-width=\"1.5\" d=\"M244.29,-171.02C277.44,-159.1 320.59,-143.59 358.47,-129.98\"/>\n<polygon fill=\"black\" stroke=\"black\" stroke-width=\"1.5\" points=\"359.75,-133.24 367.98,-126.56 357.39,-126.65 359.75,-133.24\"/>\n</g>\n<!-- get_current_weather&#45;&gt;Triage -->\n<g id=\"edge3\" class=\"edge\">\n<title>get_current_weather&#45;&gt;Triage</title>\n<path fill=\"none\" stroke=\"black\" stroke-width=\"1.5\" stroke-dasharray=\"1,5\" d=\"M119.1,-113.64C131.62,-124.89 147.75,-140.71 161.52,-155.07\"/>\n<polygon fill=\"black\" stroke=\"black\" stroke-width=\"1.5\" points=\"159.06,-157.57 168.47,-162.42 164.14,-152.75 159.06,-157.57\"/>\n</g>\n<!-- PIAIC Expert Agent&#45;&gt;__end__ -->\n<g id=\"edge5\" class=\"edge\">\n<title>PIAIC Expert Agent&#45;&gt;__end__</title>\n<path fill=\"none\" stroke=\"black\" stroke-width=\"1.5\" d=\"M311.14,-68.36C321.06,-58.76 332,-48.19 341.34,-39.16\"/>\n<polygon fill=\"black\" stroke=\"black\" stroke-width=\"1.5\" points=\"344,-41.46 348.75,-32 339.13,-36.43 344,-41.46\"/>\n</g>\n<!-- Agentic AI Expert Agent&#45;&gt;__end__ -->\n<g id=\"edge7\" class=\"edge\">\n<title>Agentic AI Expert Agent&#45;&gt;__end__</title>\n<path fill=\"none\" stroke=\"black\" stroke-width=\"1.5\" d=\"M416.85,-68.36C406.93,-58.76 395.99,-48.19 386.65,-39.16\"/>\n<polygon fill=\"black\" stroke=\"black\" stroke-width=\"1.5\" points=\"388.86,-36.43 379.24,-32 383.99,-41.46 388.86,-36.43\"/>\n</g>\n</g>\n</svg>\n",
            "text/plain": [
              "<graphviz.sources.Source at 0x7c759a6a3f10>"
            ]
          },
          "metadata": {},
          "execution_count": 29
        }
      ]
    }
  ]
}